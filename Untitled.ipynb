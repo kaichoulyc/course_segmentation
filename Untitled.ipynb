{
 "cells": [
  {
   "cell_type": "code",
   "execution_count": 1,
   "metadata": {},
   "outputs": [],
   "source": [
    "import torch\n",
    "import numpy as np\n",
    "import os\n",
    "from tqdm import tqdm_notebook as tqdm\n",
    "import pandas as pd\n",
    "from utils.losses import LossBinary, Loss, iou_pytorch\n",
    "from utils.generator import claim_generator\n",
    "import timeit\n",
    "\n",
    "from model.resnet import UNet_ResNet\n",
    "from model.senet import UNet_SENet\n",
    "from model.resnext import UNet_SeResnext"
   ]
  },
  {
   "cell_type": "code",
   "execution_count": 2,
   "metadata": {},
   "outputs": [],
   "source": [
    "abs_path = '/home/kaichou/ssd/course'\n",
    "train_path = os.path.join(abs_path, 'train')\n",
    "valid_path = os.path.join(abs_path, 'valid')\n",
    "test_path = os.path.join(abs_path, 'test')"
   ]
  },
  {
   "cell_type": "code",
   "execution_count": null,
   "metadata": {},
   "outputs": [],
   "source": [
    "torch.optim.lr_scheduler.CyclicLR()"
   ]
  },
  {
   "cell_type": "code",
   "execution_count": 3,
   "metadata": {},
   "outputs": [],
   "source": [
    "epochs_df = pd.DataFrame(columns = ['Epoch', 'Train_loss', 'Val_loss', 'Val_IoU', 'Time'])"
   ]
  },
  {
   "cell_type": "code",
   "execution_count": 4,
   "metadata": {},
   "outputs": [],
   "source": [
    "models = {\n",
    "    'senet154': [UNet_SENet, 10, 'SENet154'],\n",
    "    'resnext50': [UNet_SeResnext, 24, 'SEResNext50'],\n",
    "    'resnext101': [UNet_SeResnext, 18, 'SEResNext101'],\n",
    "    'resnet18': [UNet_ResNet, 34, 'ResNet18'],\n",
    "    'resnet34': [UNet_ResNet, 26, 'ResNet34'],\n",
    "    'resnet50': [UNet_ResNet, 22, 'ResNet50'],\n",
    "    'resnet101': [UNet_ResNet, 20, 'ResNet101'],\n",
    "    'resnet152': [UNet_ResNet, 18, 'ResNet152']\n",
    "}"
   ]
  },
  {
   "cell_type": "code",
   "execution_count": null,
   "metadata": {},
   "outputs": [],
   "source": [
    "model_types = ['senet154', 'resnext50', 'resnext101', 'resnet18', 'resnet34', 'resnet50', 'resnet101', 'resnet152']"
   ]
  },
  {
   "cell_type": "code",
   "execution_count": null,
   "metadata": {},
   "outputs": [
    {
     "name": "stdout",
     "output_type": "stream",
     "text": [
      "Chose one\n",
      "0: senet154\n",
      "1: resnext50\n",
      "2: resnext101\n",
      "3: resnet18\n",
      "4: resnet34\n",
      "5: resnet50\n",
      "6: resnet101\n",
      "7: resnet152\n"
     ]
    }
   ],
   "source": [
    "print('Chose one')\n",
    "for i, t in enumerate(model_types):\n",
    "    print(str(i) + ': ' + t)\n",
    "model_type = model_types[int(input())]"
   ]
  },
  {
   "cell_type": "code",
   "execution_count": 8,
   "metadata": {},
   "outputs": [],
   "source": [
    "model_conf = models[model_type]"
   ]
  },
  {
   "cell_type": "code",
   "execution_count": 9,
   "metadata": {},
   "outputs": [],
   "source": [
    "batch_size = model_conf[1]\n",
    "num_workers = 10\n",
    "lr = 0.01"
   ]
  },
  {
   "cell_type": "code",
   "execution_count": 10,
   "metadata": {},
   "outputs": [],
   "source": [
    "path_for_weights = os.path.join('weights/', model_type)\n",
    "path_for_model = os.path.join(path_for_weights, 'model')\n",
    "path_for_optim = os.path.join(path_for_weights, 'optim')"
   ]
  },
  {
   "cell_type": "code",
   "execution_count": 11,
   "metadata": {},
   "outputs": [
    {
     "data": {
      "text/plain": [
       "'weights/resnet34/model'"
      ]
     },
     "execution_count": 11,
     "metadata": {},
     "output_type": "execute_result"
    }
   ],
   "source": [
    "path_for_model"
   ]
  },
  {
   "cell_type": "code",
   "execution_count": 12,
   "metadata": {},
   "outputs": [],
   "source": [
    "train_loader = claim_generator(train_path, batch_size, num_workers, mode = 'train')\n",
    "val_loader = claim_generator(valid_path, batch_size, num_workers, mode = 'test')"
   ]
  },
  {
   "cell_type": "code",
   "execution_count": 13,
   "metadata": {},
   "outputs": [],
   "source": [
    "if model_type == 'senet154':\n",
    "    model = model_conf[0]()\n",
    "else:\n",
    "    model = model_conf[0](encoder_type = model_type, pretrained=True)"
   ]
  },
  {
   "cell_type": "code",
   "execution_count": 14,
   "metadata": {},
   "outputs": [],
   "source": [
    "criterions = {\n",
    "    'lovasz': Loss(1, 2),\n",
    "    'iou': iou_pytorch\n",
    "}\n",
    "\n",
    "optimizer = torch.optim.SGD(model.parameters(), lr = lr, momentum=0.9, weight_decay=0.0005)"
   ]
  },
  {
   "cell_type": "code",
   "execution_count": 15,
   "metadata": {},
   "outputs": [],
   "source": [
    "device = torch.device('cuda')"
   ]
  },
  {
   "cell_type": "code",
   "execution_count": 16,
   "metadata": {},
   "outputs": [],
   "source": [
    "model = model.to(device)"
   ]
  },
  {
   "cell_type": "code",
   "execution_count": 17,
   "metadata": {},
   "outputs": [],
   "source": [
    "def validating(model, criterions, val_loader, device):\n",
    "    model.eval()\n",
    "    with torch.no_grad():\n",
    "        epoch_loss_b = 0\n",
    "        schet = 0\n",
    "        iou_full = 0\n",
    "        for x, y in val_loader:\n",
    "            schet += 1\n",
    "            x = x.to(device)\n",
    "            y = y.to(device)\n",
    "            mask_pred = model(x)\n",
    "            loss_b = criterions['lovasz'](mask_pred, y)\n",
    "            epoch_loss_b += loss_b.item()\n",
    "            iou_full += criterions['iou'](mask_pred.long(), y.long())\n",
    "    return epoch_loss_b / schet, iou_full / schet"
   ]
  },
  {
   "cell_type": "code",
   "execution_count": 18,
   "metadata": {},
   "outputs": [],
   "source": [
    "def traininng(model, epochs, criterions, optimizer, train_loader,  path_for_model, path_for_optim, device, inf_df, model_conf):\n",
    "    scheduler = torch.optim.lr_scheduler.StepLR(optimizer=optimizer, step_size=35)\n",
    "    for epoch in tqdm(range(epochs)):\n",
    "        st = timeit.default_timer()\n",
    "        scheduler.step()\n",
    "        model.train()\n",
    "        print('Starting epoch {}/{}.'.format(epoch + 1, epochs))\n",
    "        epoch_loss = 0\n",
    "        schet = 0\n",
    "        for x, y in train_loader:\n",
    "            schet += 1\n",
    "            x = x.to(device)\n",
    "            with torch.no_grad():\n",
    "                y = y.to(device)\n",
    "            mask_pred = model(x)\n",
    "            \n",
    "            loss = criterions['lovasz'](mask_pred, y)\n",
    "            epoch_loss += loss.item()\n",
    "            optimizer.zero_grad()\n",
    "            loss.backward()\n",
    "            optimizer.step()\n",
    "        val_loss, val_iou = validating(model, criterions, val_loader, device)\n",
    "        print(f'Epoch finished ! Train Loss: {epoch_loss / schet}  Valid loss: {val_loss} Val IoUc: {val_iou}')\n",
    "        \n",
    "        \n",
    "        if (epoch != 0) and ((epoch % 3) == 0):\n",
    "            torch.save(model.state_dict(), os.path.join(path_for_model, model_conf[2] + f'_model{epoch + 1}.pth'))\n",
    "            torch.save(optimizer.state_dict(), os.path.join(path_for_optim, model_conf[2] +  f'_optim{epoch + 1}.pth'))\n",
    "        fin = timeit.default_timer() - st\n",
    "        print(f'Time spent on epoch {fin}')\n",
    "        inf_df.loc[epoch] = [epoch + 1, epoch_loss / schet, val_loss, val_iou, fin]\n",
    "        inf_df.to_csv(model_conf[2] + '_inf.csv')"
   ]
  },
  {
   "cell_type": "code",
   "execution_count": 19,
   "metadata": {},
   "outputs": [
    {
     "data": {
      "application/vnd.jupyter.widget-view+json": {
       "model_id": "7c48ca3b0886478ab468097444ecc314",
       "version_major": 2,
       "version_minor": 0
      },
      "text/plain": [
       "HBox(children=(IntProgress(value=0, max=600), HTML(value='')))"
      ]
     },
     "metadata": {},
     "output_type": "display_data"
    },
    {
     "name": "stdout",
     "output_type": "stream",
     "text": [
      "Starting epoch 1/600.\n",
      "Epoch finished ! Train Loss: 1.8115139259741857  Valid loss: 0.6039150448945853 Val IoUc: 0.02253217063844204\n",
      "Time spent on epoch 130.98165435300325\n",
      "Starting epoch 2/600.\n",
      "Epoch finished ! Train Loss: 0.6200566687262975  Valid loss: 0.42687018865194076 Val IoUc: 0.032051291316747665\n",
      "Time spent on epoch 129.33393287900253\n",
      "Starting epoch 3/600.\n",
      "Epoch finished ! Train Loss: 0.4868250003991983  Valid loss: 0.35158652984178984 Val IoUc: 0.02696065418422222\n",
      "Time spent on epoch 120.75367447000463\n",
      "Starting epoch 4/600.\n",
      "Epoch finished ! Train Loss: 0.43305014608762205  Valid loss: 0.3311062130408409 Val IoUc: 0.014891522005200386\n",
      "Time spent on epoch 134.63345879699045\n",
      "Starting epoch 5/600.\n",
      "Epoch finished ! Train Loss: 0.40324033472018367  Valid loss: 0.35174571397977 Val IoUc: 0.01400394644588232\n",
      "Time spent on epoch 122.28730639698915\n",
      "Starting epoch 6/600.\n",
      "Epoch finished ! Train Loss: 0.38416263709465664  Valid loss: 0.2874348782576047 Val IoUc: 0.013017754070460796\n",
      "Time spent on epoch 118.03157448799175\n",
      "Starting epoch 7/600.\n",
      "Epoch finished ! Train Loss: 0.3395845753451188  Valid loss: 0.28512996626205933 Val IoUc: 0.01962525211274624\n",
      "Time spent on epoch 118.68539738400432\n",
      "Starting epoch 8/600.\n",
      "Epoch finished ! Train Loss: 0.33078616618728024  Valid loss: 0.28322876875217146 Val IoUc: 0.013153941370546818\n",
      "Time spent on epoch 118.0335936860065\n",
      "Starting epoch 9/600.\n",
      "Epoch finished ! Train Loss: 0.31249430718330234  Valid loss: 0.28230928572324604 Val IoUc: 0.024950696155428886\n",
      "Time spent on epoch 116.68600601798971\n",
      "Starting epoch 10/600.\n",
      "Epoch finished ! Train Loss: 0.2997060015033453  Valid loss: 0.2661880659751403 Val IoUc: 0.01962525211274624\n",
      "Time spent on epoch 131.26993998400576\n",
      "Starting epoch 11/600.\n",
      "Epoch finished ! Train Loss: 0.2910036292786782  Valid loss: 0.2622308620275595 Val IoUc: 0.027514800429344177\n",
      "Time spent on epoch 132.5798531479959\n",
      "Starting epoch 12/600.\n",
      "Epoch finished ! Train Loss: 0.3194040121176304  Valid loss: 0.2887355841887303 Val IoUc: 0.024377761408686638\n",
      "Time spent on epoch 132.1848064349906\n",
      "Starting epoch 13/600.\n",
      "Epoch finished ! Train Loss: 0.29016404551191205  Valid loss: 0.26044862392621165 Val IoUc: 0.024358978495001793\n",
      "Time spent on epoch 132.07403167099983\n",
      "Starting epoch 14/600.\n",
      "Epoch finished ! Train Loss: 0.268169556481716  Valid loss: 0.2547650658167325 Val IoUc: 0.027810659259557724\n",
      "Time spent on epoch 132.71712771999591\n",
      "Starting epoch 15/600.\n",
      "Epoch finished ! Train Loss: 0.2618091932665079  Valid loss: 0.2704591552416484 Val IoUc: 0.029092706739902496\n",
      "Time spent on epoch 126.80827353100176\n",
      "Starting epoch 16/600.\n",
      "Epoch finished ! Train Loss: 0.2597210776920502  Valid loss: 0.27278011578779954 Val IoUc: 0.02055509015917778\n",
      "Time spent on epoch 115.44414444900758\n",
      "Starting epoch 17/600.\n",
      "Epoch finished ! Train Loss: 0.25291029297006434  Valid loss: 0.2746271261802086 Val IoUc: 0.02143796905875206\n",
      "Time spent on epoch 118.68693815400184\n",
      "Starting epoch 18/600.\n",
      "Epoch finished ! Train Loss: 0.2574807847730624  Valid loss: 0.25371933365479493 Val IoUc: 0.023044053465127945\n",
      "Time spent on epoch 132.1557802879979\n",
      "Starting epoch 19/600.\n",
      "Epoch finished ! Train Loss: 0.26347734320622224  Valid loss: 0.23832671229655927 Val IoUc: 0.017789050936698914\n",
      "Time spent on epoch 131.83633762299723\n",
      "Starting epoch 20/600.\n",
      "Epoch finished ! Train Loss: 0.2580268511023277  Valid loss: 0.24932204454373091 Val IoUc: 0.01666666753590107\n",
      "Time spent on epoch 129.9241103480017\n",
      "Starting epoch 21/600.\n",
      "Epoch finished ! Train Loss: 0.28309382765721053  Valid loss: 0.31866730252901715 Val IoUc: 0.016605617478489876\n",
      "Time spent on epoch 132.22420509599033\n",
      "Starting epoch 22/600.\n",
      "Epoch finished ! Train Loss: 0.26099147485234797  Valid loss: 0.23353650974921691 Val IoUc: 0.019958678632974625\n",
      "Time spent on epoch 131.8910447429953\n",
      "Starting epoch 23/600.\n",
      "Epoch finished ! Train Loss: 0.2500177344832665  Valid loss: 0.2351576193020894 Val IoUc: 0.017357006669044495\n",
      "Time spent on epoch 126.86096859400277\n",
      "Starting epoch 24/600.\n",
      "Epoch finished ! Train Loss: 0.24343678813714248  Valid loss: 0.2716785906217037 Val IoUc: 0.015088757500052452\n",
      "Time spent on epoch 128.97210501899826\n",
      "Starting epoch 25/600.\n"
     ]
    },
    {
     "ename": "KeyboardInterrupt",
     "evalue": "",
     "output_type": "error",
     "traceback": [
      "\u001b[0;31m---------------------------------------------------------------------------\u001b[0m",
      "\u001b[0;31mKeyboardInterrupt\u001b[0m                         Traceback (most recent call last)",
      "\u001b[0;32m<ipython-input-19-3c82da09b578>\u001b[0m in \u001b[0;36m<module>\u001b[0;34m\u001b[0m\n\u001b[0;32m----> 1\u001b[0;31m \u001b[0mtraininng\u001b[0m\u001b[0;34m(\u001b[0m\u001b[0mmodel\u001b[0m\u001b[0;34m,\u001b[0m \u001b[0;36m600\u001b[0m\u001b[0;34m,\u001b[0m \u001b[0mcriterions\u001b[0m\u001b[0;34m,\u001b[0m \u001b[0moptimizer\u001b[0m\u001b[0;34m,\u001b[0m \u001b[0mtrain_loader\u001b[0m\u001b[0;34m,\u001b[0m \u001b[0mpath_for_model\u001b[0m\u001b[0;34m,\u001b[0m \u001b[0mpath_for_optim\u001b[0m\u001b[0;34m,\u001b[0m \u001b[0mdevice\u001b[0m\u001b[0;34m,\u001b[0m \u001b[0mepochs_df\u001b[0m\u001b[0;34m,\u001b[0m \u001b[0mmodel_conf\u001b[0m\u001b[0;34m)\u001b[0m\u001b[0;34m\u001b[0m\u001b[0;34m\u001b[0m\u001b[0m\n\u001b[0m",
      "\u001b[0;32m<ipython-input-18-9240c0d04901>\u001b[0m in \u001b[0;36mtraininng\u001b[0;34m(model, epochs, criterions, optimizer, train_loader, path_for_model, path_for_optim, device, inf_df, model_conf)\u001b[0m\n\u001b[1;32m     19\u001b[0m             \u001b[0moptimizer\u001b[0m\u001b[0;34m.\u001b[0m\u001b[0mzero_grad\u001b[0m\u001b[0;34m(\u001b[0m\u001b[0;34m)\u001b[0m\u001b[0;34m\u001b[0m\u001b[0;34m\u001b[0m\u001b[0m\n\u001b[1;32m     20\u001b[0m             \u001b[0mloss\u001b[0m\u001b[0;34m.\u001b[0m\u001b[0mbackward\u001b[0m\u001b[0;34m(\u001b[0m\u001b[0;34m)\u001b[0m\u001b[0;34m\u001b[0m\u001b[0;34m\u001b[0m\u001b[0m\n\u001b[0;32m---> 21\u001b[0;31m             \u001b[0moptimizer\u001b[0m\u001b[0;34m.\u001b[0m\u001b[0mstep\u001b[0m\u001b[0;34m(\u001b[0m\u001b[0;34m)\u001b[0m\u001b[0;34m\u001b[0m\u001b[0;34m\u001b[0m\u001b[0m\n\u001b[0m\u001b[1;32m     22\u001b[0m         \u001b[0mval_loss\u001b[0m\u001b[0;34m,\u001b[0m \u001b[0mval_iou\u001b[0m \u001b[0;34m=\u001b[0m \u001b[0mvalidating\u001b[0m\u001b[0;34m(\u001b[0m\u001b[0mmodel\u001b[0m\u001b[0;34m,\u001b[0m \u001b[0mcriterions\u001b[0m\u001b[0;34m,\u001b[0m \u001b[0mval_loader\u001b[0m\u001b[0;34m,\u001b[0m \u001b[0mdevice\u001b[0m\u001b[0;34m)\u001b[0m\u001b[0;34m\u001b[0m\u001b[0;34m\u001b[0m\u001b[0m\n\u001b[1;32m     23\u001b[0m         \u001b[0mprint\u001b[0m\u001b[0;34m(\u001b[0m\u001b[0;34mf'Epoch finished ! Train Loss: {epoch_loss / schet}  Valid loss: {val_loss} Val IoUc: {val_iou}'\u001b[0m\u001b[0;34m)\u001b[0m\u001b[0;34m\u001b[0m\u001b[0;34m\u001b[0m\u001b[0m\n",
      "\u001b[0;32m~/.virtualenvs/vir-py3.6/local/lib/python3.6/site-packages/torch/optim/sgd.py\u001b[0m in \u001b[0;36mstep\u001b[0;34m(self, closure)\u001b[0m\n\u001b[1;32m     99\u001b[0m                     \u001b[0;32melse\u001b[0m\u001b[0;34m:\u001b[0m\u001b[0;34m\u001b[0m\u001b[0;34m\u001b[0m\u001b[0m\n\u001b[1;32m    100\u001b[0m                         \u001b[0mbuf\u001b[0m \u001b[0;34m=\u001b[0m \u001b[0mparam_state\u001b[0m\u001b[0;34m[\u001b[0m\u001b[0;34m'momentum_buffer'\u001b[0m\u001b[0;34m]\u001b[0m\u001b[0;34m\u001b[0m\u001b[0;34m\u001b[0m\u001b[0m\n\u001b[0;32m--> 101\u001b[0;31m                         \u001b[0mbuf\u001b[0m\u001b[0;34m.\u001b[0m\u001b[0mmul_\u001b[0m\u001b[0;34m(\u001b[0m\u001b[0mmomentum\u001b[0m\u001b[0;34m)\u001b[0m\u001b[0;34m.\u001b[0m\u001b[0madd_\u001b[0m\u001b[0;34m(\u001b[0m\u001b[0;36m1\u001b[0m \u001b[0;34m-\u001b[0m \u001b[0mdampening\u001b[0m\u001b[0;34m,\u001b[0m \u001b[0md_p\u001b[0m\u001b[0;34m)\u001b[0m\u001b[0;34m\u001b[0m\u001b[0;34m\u001b[0m\u001b[0m\n\u001b[0m\u001b[1;32m    102\u001b[0m                     \u001b[0;32mif\u001b[0m \u001b[0mnesterov\u001b[0m\u001b[0;34m:\u001b[0m\u001b[0;34m\u001b[0m\u001b[0;34m\u001b[0m\u001b[0m\n\u001b[1;32m    103\u001b[0m                         \u001b[0md_p\u001b[0m \u001b[0;34m=\u001b[0m \u001b[0md_p\u001b[0m\u001b[0;34m.\u001b[0m\u001b[0madd\u001b[0m\u001b[0;34m(\u001b[0m\u001b[0mmomentum\u001b[0m\u001b[0;34m,\u001b[0m \u001b[0mbuf\u001b[0m\u001b[0;34m)\u001b[0m\u001b[0;34m\u001b[0m\u001b[0;34m\u001b[0m\u001b[0m\n",
      "\u001b[0;31mKeyboardInterrupt\u001b[0m: "
     ]
    }
   ],
   "source": [
    "traininng(model, 600, criterions, optimizer, train_loader, path_for_model, path_for_optim, device, epochs_df, model_conf)"
   ]
  },
  {
   "cell_type": "code",
   "execution_count": null,
   "metadata": {},
   "outputs": [],
   "source": []
  },
  {
   "cell_type": "code",
   "execution_count": 3,
   "metadata": {},
   "outputs": [],
   "source": [
    "import datetime"
   ]
  },
  {
   "cell_type": "code",
   "execution_count": 17,
   "metadata": {},
   "outputs": [],
   "source": [
    "uniq = datetime.datetime.now()"
   ]
  },
  {
   "cell_type": "code",
   "execution_count": 16,
   "metadata": {},
   "outputs": [
    {
     "data": {
      "text/plain": [
       "9"
      ]
     },
     "execution_count": 16,
     "metadata": {},
     "output_type": "execute_result"
    }
   ],
   "source": [
    "s.day"
   ]
  },
  {
   "cell_type": "code",
   "execution_count": 20,
   "metadata": {},
   "outputs": [],
   "source": [
    "uniq_add = f'_{uniq.day}-{uniq.month}-{uniq.year}-{uniq.hour}-{uniq.minute}-{uniq.second}_'"
   ]
  },
  {
   "cell_type": "code",
   "execution_count": 21,
   "metadata": {},
   "outputs": [
    {
     "data": {
      "text/plain": [
       "'_9-5-2019-4-56-58_'"
      ]
     },
     "execution_count": 21,
     "metadata": {},
     "output_type": "execute_result"
    }
   ],
   "source": [
    "uniq_add"
   ]
  },
  {
   "cell_type": "code",
   "execution_count": null,
   "metadata": {},
   "outputs": [],
   "source": []
  }
 ],
 "metadata": {
  "kernelspec": {
   "display_name": "Python 3",
   "language": "python",
   "name": "python3"
  },
  "language_info": {
   "codemirror_mode": {
    "name": "ipython",
    "version": 3
   },
   "file_extension": ".py",
   "mimetype": "text/x-python",
   "name": "python",
   "nbconvert_exporter": "python",
   "pygments_lexer": "ipython3",
   "version": "3.6.7"
  }
 },
 "nbformat": 4,
 "nbformat_minor": 2
}
