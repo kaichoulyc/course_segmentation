{
 "cells": [
  {
   "cell_type": "code",
   "execution_count": 1,
   "metadata": {},
   "outputs": [],
   "source": [
    "import os\n",
    "import cv2\n",
    "import torch\n",
    "import timeit\n",
    "import numpy as np\n",
    "import pandas as pd\n",
    "from tqdm import tqdm_notebook as tqdm\n",
    "\n",
    "from utils.generator import claim_generator\n",
    "from utils.iou import compute_mask_iou\n",
    "from utils.losses import Loss\n",
    "\n",
    "from model.resnet import UNet_ResNet\n",
    "from model.senet import UNet_SENet\n",
    "from model.resnext import UNet_SeResnext\n",
    "from model.deep_lab.deeplab import *"
   ]
  },
  {
   "cell_type": "code",
   "execution_count": 2,
   "metadata": {},
   "outputs": [],
   "source": [
    "abs_path = '/home/kaichou/ssd/course'\n",
    "test_path = os.path.join(abs_path, 'test')"
   ]
  },
  {
   "cell_type": "code",
   "execution_count": 3,
   "metadata": {},
   "outputs": [],
   "source": [
    "test_loader = claim_generator(test_path, batch_size = 50, workers = 10, side_size=513, mode = 'test')"
   ]
  },
  {
   "cell_type": "markdown",
   "metadata": {},
   "source": [
    "iou_nets = pd.DataFrame(columns = ['IoU@0.3', 'IoU@0.5', 'IoU@0.7', 'IoU@0.9', 'Dice_loss', 'Inf_Time'])"
   ]
  },
  {
   "cell_type": "code",
   "execution_count": 4,
   "metadata": {},
   "outputs": [],
   "source": [
    "iou_nets = pd.read_csv('nets_test_info.csv')"
   ]
  },
  {
   "cell_type": "code",
   "execution_count": 5,
   "metadata": {},
   "outputs": [],
   "source": [
    "model = DeepLab()"
   ]
  },
  {
   "cell_type": "code",
   "execution_count": 6,
   "metadata": {},
   "outputs": [
    {
     "data": {
      "text/plain": [
       "IncompatibleKeys(missing_keys=[], unexpected_keys=[])"
      ]
     },
     "execution_count": 6,
     "metadata": {},
     "output_type": "execute_result"
    }
   ],
   "source": [
    "model.load_state_dict(torch.load('weights/deeplab/model/DeepLab_model129.pth', map_location = 'cpu'))"
   ]
  },
  {
   "cell_type": "code",
   "execution_count": 7,
   "metadata": {},
   "outputs": [],
   "source": [
    "device = torch.device('cuda')"
   ]
  },
  {
   "cell_type": "code",
   "execution_count": 8,
   "metadata": {},
   "outputs": [],
   "source": [
    "model = model.to(device)"
   ]
  },
  {
   "cell_type": "code",
   "execution_count": 9,
   "metadata": {},
   "outputs": [],
   "source": [
    "criterion = Loss(0, 1)"
   ]
  },
  {
   "cell_type": "code",
   "execution_count": 10,
   "metadata": {},
   "outputs": [],
   "source": [
    "times = []"
   ]
  },
  {
   "cell_type": "code",
   "execution_count": 11,
   "metadata": {},
   "outputs": [],
   "source": [
    "ious = {\n",
    "    0.3: 0,\n",
    "    0.5: 0,\n",
    "    0.7: 0,\n",
    "    0.9: 0\n",
    "}"
   ]
  },
  {
   "cell_type": "code",
   "execution_count": null,
   "metadata": {},
   "outputs": [],
   "source": []
  },
  {
   "cell_type": "code",
   "execution_count": 12,
   "metadata": {},
   "outputs": [
    {
     "data": {
      "application/vnd.jupyter.widget-view+json": {
       "model_id": "9976f2a8325c46c78d439995cc73837c",
       "version_major": 2,
       "version_minor": 0
      },
      "text/plain": [
       "HBox(children=(IntProgress(value=0, max=44), HTML(value='')))"
      ]
     },
     "metadata": {},
     "output_type": "display_data"
    },
    {
     "name": "stdout",
     "output_type": "stream",
     "text": [
      "\n"
     ]
    }
   ],
   "source": [
    "loss = 0\n",
    "schet = 0\n",
    "whole_loss = 0\n",
    "with torch.no_grad():\n",
    "    for x, y in tqdm(test_loader):\n",
    "        schet += 1\n",
    "        st = timeit.default_timer()\n",
    "        x = x.to(device)\n",
    "        y = y.to(device)\n",
    "        mask_pred = model(x)\n",
    "        times.append(timeit.default_timer() - st)\n",
    "        loss = criterion(mask_pred, y)\n",
    "        whole_loss += loss.item()\n",
    "        for t in [0.3, 0.5, 0.7, 0.9]:\n",
    "            ious[t] += compute_mask_iou(y.cpu().squeeze(1).numpy(), (torch.sigmoid(mask_pred) > t).cpu().squeeze(1).numpy().astype(np.float))"
   ]
  },
  {
   "cell_type": "code",
   "execution_count": 13,
   "metadata": {},
   "outputs": [],
   "source": [
    "iou_nets.loc[3] = [ious[0.3] / schet, ious[0.5] / schet, ious[0.7] / schet, ious[0.9] / schet, whole_loss / schet, np.mean(times)]"
   ]
  },
  {
   "cell_type": "code",
   "execution_count": 14,
   "metadata": {},
   "outputs": [],
   "source": [
    "iou_nets.to_csv('nets_test_info.csv', index = False)"
   ]
  },
  {
   "cell_type": "code",
   "execution_count": 15,
   "metadata": {},
   "outputs": [
    {
     "data": {
      "text/html": [
       "<div>\n",
       "<style scoped>\n",
       "    .dataframe tbody tr th:only-of-type {\n",
       "        vertical-align: middle;\n",
       "    }\n",
       "\n",
       "    .dataframe tbody tr th {\n",
       "        vertical-align: top;\n",
       "    }\n",
       "\n",
       "    .dataframe thead th {\n",
       "        text-align: right;\n",
       "    }\n",
       "</style>\n",
       "<table border=\"1\" class=\"dataframe\">\n",
       "  <thead>\n",
       "    <tr style=\"text-align: right;\">\n",
       "      <th></th>\n",
       "      <th>IoU@0.3</th>\n",
       "      <th>IoU@0.5</th>\n",
       "      <th>IoU@0.7</th>\n",
       "      <th>IoU@0.9</th>\n",
       "      <th>Dice_loss</th>\n",
       "      <th>Inf_Time</th>\n",
       "    </tr>\n",
       "  </thead>\n",
       "  <tbody>\n",
       "    <tr>\n",
       "      <th>0</th>\n",
       "      <td>0.863049</td>\n",
       "      <td>0.867387</td>\n",
       "      <td>0.866115</td>\n",
       "      <td>0.857214</td>\n",
       "      <td>0.088416</td>\n",
       "      <td>0.023123</td>\n",
       "    </tr>\n",
       "    <tr>\n",
       "      <th>1</th>\n",
       "      <td>0.873832</td>\n",
       "      <td>0.874391</td>\n",
       "      <td>0.874118</td>\n",
       "      <td>0.868200</td>\n",
       "      <td>0.077424</td>\n",
       "      <td>0.131036</td>\n",
       "    </tr>\n",
       "    <tr>\n",
       "      <th>2</th>\n",
       "      <td>0.912831</td>\n",
       "      <td>0.913522</td>\n",
       "      <td>0.912954</td>\n",
       "      <td>0.906816</td>\n",
       "      <td>0.041356</td>\n",
       "      <td>0.767237</td>\n",
       "    </tr>\n",
       "    <tr>\n",
       "      <th>3</th>\n",
       "      <td>0.871474</td>\n",
       "      <td>0.872698</td>\n",
       "      <td>0.870205</td>\n",
       "      <td>0.856783</td>\n",
       "      <td>0.063681</td>\n",
       "      <td>0.087080</td>\n",
       "    </tr>\n",
       "  </tbody>\n",
       "</table>\n",
       "</div>"
      ],
      "text/plain": [
       "    IoU@0.3   IoU@0.5   IoU@0.7   IoU@0.9  Dice_loss  Inf_Time\n",
       "0  0.863049  0.867387  0.866115  0.857214   0.088416  0.023123\n",
       "1  0.873832  0.874391  0.874118  0.868200   0.077424  0.131036\n",
       "2  0.912831  0.913522  0.912954  0.906816   0.041356  0.767237\n",
       "3  0.871474  0.872698  0.870205  0.856783   0.063681  0.087080"
      ]
     },
     "execution_count": 15,
     "metadata": {},
     "output_type": "execute_result"
    }
   ],
   "source": [
    "iou_nets"
   ]
  },
  {
   "cell_type": "code",
   "execution_count": null,
   "metadata": {},
   "outputs": [],
   "source": []
  }
 ],
 "metadata": {
  "kernelspec": {
   "display_name": "Python 3",
   "language": "python",
   "name": "python3"
  },
  "language_info": {
   "codemirror_mode": {
    "name": "ipython",
    "version": 3
   },
   "file_extension": ".py",
   "mimetype": "text/x-python",
   "name": "python",
   "nbconvert_exporter": "python",
   "pygments_lexer": "ipython3",
   "version": "3.6.7"
  }
 },
 "nbformat": 4,
 "nbformat_minor": 2
}
